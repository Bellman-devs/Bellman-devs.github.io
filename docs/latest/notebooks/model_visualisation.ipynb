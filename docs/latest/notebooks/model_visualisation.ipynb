{
 "cells": [
  {
   "cell_type": "markdown",
   "id": "445d400c",
   "metadata": {
    "cell_marker": "\"\"\""
   },
   "source": [
    "# Learning from samples"
   ]
  },
  {
   "cell_type": "code",
   "execution_count": 1,
   "id": "ab8ac4b8",
   "metadata": {
    "execution": {
     "iopub.execute_input": "2021-07-27T08:51:42.781504Z",
     "iopub.status.busy": "2021-07-27T08:51:42.780883Z",
     "iopub.status.idle": "2021-07-27T08:51:42.850960Z",
     "shell.execute_reply": "2021-07-27T08:51:42.851542Z"
    }
   },
   "outputs": [
    {
     "ename": "ModuleNotFoundError",
     "evalue": "No module named 'tensorflow'",
     "output_type": "error",
     "traceback": [
      "\u001b[0;31m---------------------------------------------------------------------------\u001b[0m",
      "\u001b[0;31mModuleNotFoundError\u001b[0m                       Traceback (most recent call last)",
      "\u001b[0;32m/tmp/ipykernel_2487/3602052060.py\u001b[0m in \u001b[0;36m<module>\u001b[0;34m\u001b[0m\n\u001b[0;32m----> 1\u001b[0;31m \u001b[0;32mimport\u001b[0m \u001b[0mtensorflow\u001b[0m \u001b[0;32mas\u001b[0m \u001b[0mtf\u001b[0m\u001b[0;34m\u001b[0m\u001b[0;34m\u001b[0m\u001b[0m\n\u001b[0m\u001b[1;32m      2\u001b[0m \u001b[0;32mfrom\u001b[0m \u001b[0mtf_agents\u001b[0m\u001b[0;34m.\u001b[0m\u001b[0magents\u001b[0m\u001b[0;34m.\u001b[0m\u001b[0mdqn\u001b[0m \u001b[0;32mimport\u001b[0m \u001b[0mdqn_agent\u001b[0m\u001b[0;34m\u001b[0m\u001b[0;34m\u001b[0m\u001b[0m\n\u001b[1;32m      3\u001b[0m \u001b[0;32mfrom\u001b[0m \u001b[0mtf_agents\u001b[0m\u001b[0;34m.\u001b[0m\u001b[0mdrivers\u001b[0m \u001b[0;32mimport\u001b[0m \u001b[0mdynamic_episode_driver\u001b[0m\u001b[0;34m,\u001b[0m \u001b[0mdynamic_step_driver\u001b[0m\u001b[0;34m\u001b[0m\u001b[0;34m\u001b[0m\u001b[0m\n\u001b[1;32m      4\u001b[0m \u001b[0;32mfrom\u001b[0m \u001b[0mtf_agents\u001b[0m\u001b[0;34m.\u001b[0m\u001b[0menvironments\u001b[0m \u001b[0;32mimport\u001b[0m \u001b[0msuite_gym\u001b[0m\u001b[0;34m\u001b[0m\u001b[0;34m\u001b[0m\u001b[0m\n\u001b[1;32m      5\u001b[0m \u001b[0;32mfrom\u001b[0m \u001b[0mtf_agents\u001b[0m\u001b[0;34m.\u001b[0m\u001b[0menvironments\u001b[0m\u001b[0;34m.\u001b[0m\u001b[0mtf_py_environment\u001b[0m \u001b[0;32mimport\u001b[0m \u001b[0mTFPyEnvironment\u001b[0m\u001b[0;34m\u001b[0m\u001b[0;34m\u001b[0m\u001b[0m\n",
      "\u001b[0;31mModuleNotFoundError\u001b[0m: No module named 'tensorflow'"
     ]
    }
   ],
   "source": [
    "import tensorflow as tf\n",
    "from tf_agents.agents.dqn import dqn_agent\n",
    "from tf_agents.drivers import dynamic_episode_driver, dynamic_step_driver\n",
    "from tf_agents.environments import suite_gym\n",
    "from tf_agents.environments.tf_py_environment import TFPyEnvironment\n",
    "from tf_agents.networks import q_network\n",
    "from tf_agents.replay_buffers import tf_uniform_replay_buffer\n",
    "from tf_agents.utils import common\n",
    "\n",
    "from bellman.environments.environment_model import EnvironmentModel\n",
    "from bellman.environments.tf_wrappers import TFTimeLimit\n",
    "from bellman.environments.transition_model.keras_model.keras import (\n",
    "    KerasTrainingSpec,\n",
    "    KerasTransitionModel,\n",
    ")\n",
    "from bellman.environments.transition_model.keras_model.linear import LinearTransitionNetwork\n",
    "from bellman.environments.transition_model.keras_model.trajectory_sampling import (\n",
    "    InfiniteHorizonTrajectorySampling,\n",
    ")\n",
    "from examples.utils.classic_control import (\n",
    "    MountainCarInitialState,\n",
    "    MountainCarReward,\n",
    "    MountainCarTermination,\n",
    ")\n",
    "from examples.utils.mountain_car import (\n",
    "    plot_mountain_car_policy_decisions,\n",
    "    plot_mountain_car_transitions,\n",
    ")\n",
    "from examples.utils.policies import sample_uniformly_distributed_observations_and_get_actions\n",
    "from examples.utils.trajectories import sample_uniformly_distributed_transitions\n",
    "from tests.tools.bellman.environments.reward_model import ConstantReward"
   ]
  },
  {
   "cell_type": "markdown",
   "id": "e95d6752",
   "metadata": {
    "lines_to_next_cell": 2
   },
   "source": [
    "\"\"\"\n",
    "This notebook demonstrates how to assemble a batch model based reinforcement learning system. In\n",
    "this example we generate trajectories from the Mountain Car gym environment using a random policy,\n",
    "use that data to train a linear model of the transition function, and use sampled transitions from\n",
    "the model to train a DQN agent.\n",
    "\"\"\"\n",
    "\n",
    "\n",
    "%matplotlib inline"
   ]
  },
  {
   "cell_type": "markdown",
   "id": "70b7b97a",
   "metadata": {
    "cell_marker": "\"\"\""
   },
   "source": [
    "This example is based on Mountain Car because it is straightforward to visualise the state space\n",
    "and the linearised dynamics contain enough information to learn a controller using reinforcement\n",
    "learning."
   ]
  },
  {
   "cell_type": "code",
   "execution_count": 2,
   "id": "a00ab924",
   "metadata": {
    "execution": {
     "iopub.execute_input": "2021-07-27T08:51:42.860419Z",
     "iopub.status.busy": "2021-07-27T08:51:42.859514Z",
     "iopub.status.idle": "2021-07-27T08:51:42.862445Z",
     "shell.execute_reply": "2021-07-27T08:51:42.862956Z"
    }
   },
   "outputs": [
    {
     "ename": "NameError",
     "evalue": "name 'tf' is not defined",
     "output_type": "error",
     "traceback": [
      "\u001b[0;31m---------------------------------------------------------------------------\u001b[0m",
      "\u001b[0;31mNameError\u001b[0m                                 Traceback (most recent call last)",
      "\u001b[0;32m/tmp/ipykernel_2487/2824442390.py\u001b[0m in \u001b[0;36m<module>\u001b[0;34m\u001b[0m\n\u001b[0;32m----> 1\u001b[0;31m \u001b[0mglobal_step\u001b[0m \u001b[0;34m=\u001b[0m \u001b[0mtf\u001b[0m\u001b[0;34m.\u001b[0m\u001b[0mcompat\u001b[0m\u001b[0;34m.\u001b[0m\u001b[0mv1\u001b[0m\u001b[0;34m.\u001b[0m\u001b[0mtrain\u001b[0m\u001b[0;34m.\u001b[0m\u001b[0mget_or_create_global_step\u001b[0m\u001b[0;34m(\u001b[0m\u001b[0;34m)\u001b[0m\u001b[0;34m\u001b[0m\u001b[0;34m\u001b[0m\u001b[0m\n\u001b[0m\u001b[1;32m      2\u001b[0m \u001b[0mtf_env\u001b[0m \u001b[0;34m=\u001b[0m \u001b[0mTFPyEnvironment\u001b[0m\u001b[0;34m(\u001b[0m\u001b[0msuite_gym\u001b[0m\u001b[0;34m.\u001b[0m\u001b[0mload\u001b[0m\u001b[0;34m(\u001b[0m\u001b[0;34m\"MountainCar-v0\"\u001b[0m\u001b[0;34m)\u001b[0m\u001b[0;34m)\u001b[0m\u001b[0;34m\u001b[0m\u001b[0;34m\u001b[0m\u001b[0m\n",
      "\u001b[0;31mNameError\u001b[0m: name 'tf' is not defined"
     ]
    }
   ],
   "source": [
    "global_step = tf.compat.v1.train.get_or_create_global_step()\n",
    "tf_env = TFPyEnvironment(suite_gym.load(\"MountainCar-v0\"))"
   ]
  },
  {
   "cell_type": "markdown",
   "id": "e2d35c9f",
   "metadata": {
    "cell_marker": "\"\"\""
   },
   "source": [
    "## Dynamics model\n",
    "\n",
    "We define the linear model that is going to be used to model the transition function of this\n",
    "environment. We plot the predicted dynamics of the untrained model. The action space of the\n",
    "mountain car environment consists of three discrete elements. These are represented in all\n",
    "subsequent plots with three colours:\n",
    "- left impulse: blue\n",
    "- no impule: red\n",
    "- right impulse: green\n",
    "\n",
    "In these state-space plots, the x-axis is the agents position and the y-axis is the velocity."
   ]
  },
  {
   "cell_type": "code",
   "execution_count": 3,
   "id": "0306ac0e",
   "metadata": {
    "execution": {
     "iopub.execute_input": "2021-07-27T08:51:42.873305Z",
     "iopub.status.busy": "2021-07-27T08:51:42.872623Z",
     "iopub.status.idle": "2021-07-27T08:51:42.876044Z",
     "shell.execute_reply": "2021-07-27T08:51:42.876552Z"
    }
   },
   "outputs": [
    {
     "ename": "NameError",
     "evalue": "name 'KerasTrainingSpec' is not defined",
     "output_type": "error",
     "traceback": [
      "\u001b[0;31m---------------------------------------------------------------------------\u001b[0m",
      "\u001b[0;31mNameError\u001b[0m                                 Traceback (most recent call last)",
      "\u001b[0;32m/tmp/ipykernel_2487/3286094786.py\u001b[0m in \u001b[0;36m<module>\u001b[0;34m\u001b[0m\n\u001b[1;32m      1\u001b[0m \u001b[0mbatch_size\u001b[0m \u001b[0;34m=\u001b[0m \u001b[0;36m64\u001b[0m\u001b[0;34m\u001b[0m\u001b[0;34m\u001b[0m\u001b[0m\n\u001b[1;32m      2\u001b[0m \u001b[0;34m\u001b[0m\u001b[0m\n\u001b[0;32m----> 3\u001b[0;31m training_spec = KerasTrainingSpec(\n\u001b[0m\u001b[1;32m      4\u001b[0m     \u001b[0mepochs\u001b[0m\u001b[0;34m=\u001b[0m\u001b[0;36m5000\u001b[0m\u001b[0;34m,\u001b[0m\u001b[0;34m\u001b[0m\u001b[0;34m\u001b[0m\u001b[0m\n\u001b[1;32m      5\u001b[0m     \u001b[0mtraining_batch_size\u001b[0m\u001b[0;34m=\u001b[0m\u001b[0;36m256\u001b[0m\u001b[0;34m,\u001b[0m\u001b[0;34m\u001b[0m\u001b[0;34m\u001b[0m\u001b[0m\n",
      "\u001b[0;31mNameError\u001b[0m: name 'KerasTrainingSpec' is not defined"
     ]
    }
   ],
   "source": [
    "batch_size = 64\n",
    "\n",
    "training_spec = KerasTrainingSpec(\n",
    "    epochs=5000,\n",
    "    training_batch_size=256,\n",
    "    callbacks=[tf.keras.callbacks.EarlyStopping(monitor=\"loss\", patience=3)],\n",
    "    verbose=0,\n",
    ")\n",
    "linear_transition_network = LinearTransitionNetwork(tf_env.observation_spec())\n",
    "trajectory_sampling_strategy = InfiniteHorizonTrajectorySampling(batch_size, 1)\n",
    "transition_model = KerasTransitionModel(\n",
    "    [linear_transition_network],\n",
    "    tf_env.observation_spec(),\n",
    "    tf_env.action_spec(),\n",
    ")\n",
    "reward_model = ConstantReward(tf_env.observation_spec(), tf_env.action_spec())\n",
    "sample_transitions = sample_uniformly_distributed_transitions(\n",
    "    transition_model, 1000, reward_model\n",
    ")"
   ]
  },
  {
   "cell_type": "code",
   "execution_count": 4,
   "id": "f49b13d6",
   "metadata": {
    "execution": {
     "iopub.execute_input": "2021-07-27T08:51:42.884385Z",
     "iopub.status.busy": "2021-07-27T08:51:42.883755Z",
     "iopub.status.idle": "2021-07-27T08:51:42.887840Z",
     "shell.execute_reply": "2021-07-27T08:51:42.888419Z"
    }
   },
   "outputs": [
    {
     "ename": "NameError",
     "evalue": "name 'plot_mountain_car_transitions' is not defined",
     "output_type": "error",
     "traceback": [
      "\u001b[0;31m---------------------------------------------------------------------------\u001b[0m",
      "\u001b[0;31mNameError\u001b[0m                                 Traceback (most recent call last)",
      "\u001b[0;32m/tmp/ipykernel_2487/3989627936.py\u001b[0m in \u001b[0;36m<module>\u001b[0;34m\u001b[0m\n\u001b[0;32m----> 1\u001b[0;31m plot_mountain_car_transitions(\n\u001b[0m\u001b[1;32m      2\u001b[0m     \u001b[0msample_transitions\u001b[0m\u001b[0;34m.\u001b[0m\u001b[0mobservation\u001b[0m\u001b[0;34m.\u001b[0m\u001b[0mnumpy\u001b[0m\u001b[0;34m(\u001b[0m\u001b[0;34m)\u001b[0m\u001b[0;34m,\u001b[0m\u001b[0;34m\u001b[0m\u001b[0;34m\u001b[0m\u001b[0m\n\u001b[1;32m      3\u001b[0m     \u001b[0msample_transitions\u001b[0m\u001b[0;34m.\u001b[0m\u001b[0maction\u001b[0m\u001b[0;34m.\u001b[0m\u001b[0mnumpy\u001b[0m\u001b[0;34m(\u001b[0m\u001b[0;34m)\u001b[0m\u001b[0;34m,\u001b[0m\u001b[0;34m\u001b[0m\u001b[0;34m\u001b[0m\u001b[0m\n\u001b[1;32m      4\u001b[0m     \u001b[0msample_transitions\u001b[0m\u001b[0;34m.\u001b[0m\u001b[0mnext_observation\u001b[0m\u001b[0;34m.\u001b[0m\u001b[0mnumpy\u001b[0m\u001b[0;34m(\u001b[0m\u001b[0;34m)\u001b[0m\u001b[0;34m,\u001b[0m\u001b[0;34m\u001b[0m\u001b[0;34m\u001b[0m\u001b[0m\n\u001b[1;32m      5\u001b[0m )\n",
      "\u001b[0;31mNameError\u001b[0m: name 'plot_mountain_car_transitions' is not defined"
     ]
    }
   ],
   "source": [
    "plot_mountain_car_transitions(\n",
    "    sample_transitions.observation.numpy(),\n",
    "    sample_transitions.action.numpy(),\n",
    "    sample_transitions.next_observation.numpy(),\n",
    ")"
   ]
  },
  {
   "cell_type": "markdown",
   "id": "9dfa2407",
   "metadata": {
    "cell_marker": "\"\"\""
   },
   "source": [
    "## TF-Agents Agent\n",
    "\n",
    "In this notebook we train a TF-Agents DQN agent on samples from the dynamics model. The TF-Agents\n",
    "agents define two policies: a collect policy and a training policy. For this DQN agent, the\n",
    "training policy is a greedy policy parametrised by a Q value neural network, and the collect\n",
    "policy is the associated epsilon greedy policy.\n",
    "\n",
    "We use the collect policy from the untrained DQN agent to generate trajectories from the real\n",
    "Mountain Car environment in order to train the dynamics model."
   ]
  },
  {
   "cell_type": "code",
   "execution_count": 5,
   "id": "2de8276a",
   "metadata": {
    "execution": {
     "iopub.execute_input": "2021-07-27T08:51:42.903245Z",
     "iopub.status.busy": "2021-07-27T08:51:42.902608Z",
     "iopub.status.idle": "2021-07-27T08:51:42.906322Z",
     "shell.execute_reply": "2021-07-27T08:51:42.905613Z"
    }
   },
   "outputs": [
    {
     "ename": "NameError",
     "evalue": "name 'q_network' is not defined",
     "output_type": "error",
     "traceback": [
      "\u001b[0;31m---------------------------------------------------------------------------\u001b[0m",
      "\u001b[0;31mNameError\u001b[0m                                 Traceback (most recent call last)",
      "\u001b[0;32m/tmp/ipykernel_2487/4200779551.py\u001b[0m in \u001b[0;36m<module>\u001b[0;34m\u001b[0m\n\u001b[1;32m     16\u001b[0m \u001b[0msummarize_grads_and_vars\u001b[0m \u001b[0;34m=\u001b[0m \u001b[0;32mFalse\u001b[0m\u001b[0;34m\u001b[0m\u001b[0;34m\u001b[0m\u001b[0m\n\u001b[1;32m     17\u001b[0m \u001b[0;34m\u001b[0m\u001b[0m\n\u001b[0;32m---> 18\u001b[0;31m q_net = q_network.QNetwork(\n\u001b[0m\u001b[1;32m     19\u001b[0m     \u001b[0mtf_env\u001b[0m\u001b[0;34m.\u001b[0m\u001b[0mobservation_spec\u001b[0m\u001b[0;34m(\u001b[0m\u001b[0;34m)\u001b[0m\u001b[0;34m,\u001b[0m \u001b[0mtf_env\u001b[0m\u001b[0;34m.\u001b[0m\u001b[0maction_spec\u001b[0m\u001b[0;34m(\u001b[0m\u001b[0;34m)\u001b[0m\u001b[0;34m,\u001b[0m \u001b[0mfc_layer_params\u001b[0m\u001b[0;34m=\u001b[0m\u001b[0mfc_layer_params\u001b[0m\u001b[0;34m\u001b[0m\u001b[0;34m\u001b[0m\u001b[0m\n\u001b[1;32m     20\u001b[0m )\n",
      "\u001b[0;31mNameError\u001b[0m: name 'q_network' is not defined"
     ]
    }
   ],
   "source": [
    "train_sequence_length = 1\n",
    "fc_layer_params = (100,)\n",
    "collect_model_training_episodes = 100\n",
    "model_training_buffer_capacity = 25000\n",
    "collect_steps_per_iteration = 10000\n",
    "epsilon_greedy = 0.1\n",
    "replay_buffer_capacity = 1000000\n",
    "target_update_tau = 0.05\n",
    "target_update_period = 5\n",
    "learning_rate = 1e-3\n",
    "n_step_update = 1\n",
    "gamma = 0.99\n",
    "gradient_clipping = None\n",
    "reward_scale_factor = 1.0\n",
    "debug_summaries = False\n",
    "summarize_grads_and_vars = False\n",
    "\n",
    "q_net = q_network.QNetwork(\n",
    "    tf_env.observation_spec(), tf_env.action_spec(), fc_layer_params=fc_layer_params\n",
    ")\n",
    "\n",
    "\n",
    "tf_agent = dqn_agent.DqnAgent(\n",
    "    tf_env.time_step_spec(),\n",
    "    tf_env.action_spec(),\n",
    "    q_network=q_net,\n",
    "    epsilon_greedy=epsilon_greedy,\n",
    "    n_step_update=n_step_update,\n",
    "    target_update_tau=target_update_tau,\n",
    "    target_update_period=target_update_period,\n",
    "    optimizer=tf.compat.v1.train.AdamOptimizer(learning_rate=learning_rate),\n",
    "    td_errors_loss_fn=common.element_wise_squared_loss,\n",
    "    gamma=gamma,\n",
    "    reward_scale_factor=reward_scale_factor,\n",
    "    gradient_clipping=gradient_clipping,\n",
    "    debug_summaries=debug_summaries,\n",
    "    summarize_grads_and_vars=summarize_grads_and_vars,\n",
    "    train_step_counter=global_step,\n",
    ")\n",
    "tf_agent.initialize()\n",
    "\n",
    "\n",
    "eval_policy = tf_agent.policy\n",
    "collect_policy = tf_agent.collect_policy\n",
    "\n",
    "model_training_buffer = tf_uniform_replay_buffer.TFUniformReplayBuffer(\n",
    "    collect_policy.trajectory_spec,\n",
    "    batch_size=tf_env.batch_size,\n",
    "    max_length=model_training_buffer_capacity,\n",
    ")\n",
    "\n",
    "model_collect_driver = dynamic_episode_driver.DynamicEpisodeDriver(\n",
    "    tf_env,\n",
    "    collect_policy,\n",
    "    observers=[model_training_buffer.add_batch],\n",
    "    num_episodes=collect_model_training_episodes,\n",
    ")\n",
    "\n",
    "model_collect_driver.run()\n",
    "\n",
    "\n",
    "def train_model_step():\n",
    "    trajectories = model_training_buffer.gather_all()\n",
    "    return transition_model.train(trajectories, training_spec)\n",
    "\n",
    "\n",
    "train_model_step()"
   ]
  },
  {
   "cell_type": "markdown",
   "id": "be8e6c2b",
   "metadata": {
    "cell_marker": "\"\"\""
   },
   "source": [
    "This plot was produced in the same manner as the previous one, but the model has now been trained on\n",
    "data from the real environment. The dynamics of the environment have been captured by the model."
   ]
  },
  {
   "cell_type": "code",
   "execution_count": 6,
   "id": "2c026f61",
   "metadata": {
    "execution": {
     "iopub.execute_input": "2021-07-27T08:51:42.914299Z",
     "iopub.status.busy": "2021-07-27T08:51:42.913624Z",
     "iopub.status.idle": "2021-07-27T08:51:42.916817Z",
     "shell.execute_reply": "2021-07-27T08:51:42.917307Z"
    }
   },
   "outputs": [
    {
     "ename": "NameError",
     "evalue": "name 'sample_uniformly_distributed_transitions' is not defined",
     "output_type": "error",
     "traceback": [
      "\u001b[0;31m---------------------------------------------------------------------------\u001b[0m",
      "\u001b[0;31mNameError\u001b[0m                                 Traceback (most recent call last)",
      "\u001b[0;32m/tmp/ipykernel_2487/4204429102.py\u001b[0m in \u001b[0;36m<module>\u001b[0;34m\u001b[0m\n\u001b[0;32m----> 1\u001b[0;31m sample_transitions = sample_uniformly_distributed_transitions(\n\u001b[0m\u001b[1;32m      2\u001b[0m     \u001b[0mtransition_model\u001b[0m\u001b[0;34m,\u001b[0m \u001b[0;36m1000\u001b[0m\u001b[0;34m,\u001b[0m \u001b[0mreward_model\u001b[0m\u001b[0;34m\u001b[0m\u001b[0;34m\u001b[0m\u001b[0m\n\u001b[1;32m      3\u001b[0m )\n\u001b[1;32m      4\u001b[0m \u001b[0;34m\u001b[0m\u001b[0m\n\u001b[1;32m      5\u001b[0m plot_mountain_car_transitions(\n",
      "\u001b[0;31mNameError\u001b[0m: name 'sample_uniformly_distributed_transitions' is not defined"
     ]
    }
   ],
   "source": [
    "sample_transitions = sample_uniformly_distributed_transitions(\n",
    "    transition_model, 1000, reward_model\n",
    ")\n",
    "\n",
    "plot_mountain_car_transitions(\n",
    "    sample_transitions.observation.numpy(),\n",
    "    sample_transitions.action.numpy(),\n",
    "    sample_transitions.next_observation.numpy(),\n",
    ")"
   ]
  },
  {
   "cell_type": "markdown",
   "id": "ad0dfce9",
   "metadata": {
    "cell_marker": "\"\"\""
   },
   "source": [
    "## Training on samples\n",
    "\n",
    "We define an environment which uses the trained transition model for the dynamics, along with a\n",
    "reward function, episode termination condition, initial state distributions and bound on episode\n",
    "length."
   ]
  },
  {
   "cell_type": "code",
   "execution_count": 7,
   "id": "6f32182c",
   "metadata": {
    "execution": {
     "iopub.execute_input": "2021-07-27T08:51:42.925704Z",
     "iopub.status.busy": "2021-07-27T08:51:42.924972Z",
     "iopub.status.idle": "2021-07-27T08:51:42.928499Z",
     "shell.execute_reply": "2021-07-27T08:51:42.929055Z"
    }
   },
   "outputs": [
    {
     "ename": "NameError",
     "evalue": "name 'MountainCarReward' is not defined",
     "output_type": "error",
     "traceback": [
      "\u001b[0;31m---------------------------------------------------------------------------\u001b[0m",
      "\u001b[0;31mNameError\u001b[0m                                 Traceback (most recent call last)",
      "\u001b[0;32m/tmp/ipykernel_2487/2607481859.py\u001b[0m in \u001b[0;36m<module>\u001b[0;34m\u001b[0m\n\u001b[0;32m----> 1\u001b[0;31m \u001b[0mreward\u001b[0m \u001b[0;34m=\u001b[0m \u001b[0mMountainCarReward\u001b[0m\u001b[0;34m(\u001b[0m\u001b[0mtf_env\u001b[0m\u001b[0;34m.\u001b[0m\u001b[0mobservation_spec\u001b[0m\u001b[0;34m(\u001b[0m\u001b[0;34m)\u001b[0m\u001b[0;34m,\u001b[0m \u001b[0mtf_env\u001b[0m\u001b[0;34m.\u001b[0m\u001b[0maction_spec\u001b[0m\u001b[0;34m(\u001b[0m\u001b[0;34m)\u001b[0m\u001b[0;34m)\u001b[0m\u001b[0;34m\u001b[0m\u001b[0;34m\u001b[0m\u001b[0m\n\u001b[0m\u001b[1;32m      2\u001b[0m \u001b[0mterminates\u001b[0m \u001b[0;34m=\u001b[0m \u001b[0mMountainCarTermination\u001b[0m\u001b[0;34m(\u001b[0m\u001b[0mtf_env\u001b[0m\u001b[0;34m.\u001b[0m\u001b[0mobservation_spec\u001b[0m\u001b[0;34m(\u001b[0m\u001b[0;34m)\u001b[0m\u001b[0;34m)\u001b[0m\u001b[0;34m\u001b[0m\u001b[0;34m\u001b[0m\u001b[0m\n\u001b[1;32m      3\u001b[0m \u001b[0minitial_state_distribution\u001b[0m \u001b[0;34m=\u001b[0m \u001b[0mMountainCarInitialState\u001b[0m\u001b[0;34m(\u001b[0m\u001b[0mtf_env\u001b[0m\u001b[0;34m.\u001b[0m\u001b[0mobservation_spec\u001b[0m\u001b[0;34m(\u001b[0m\u001b[0;34m)\u001b[0m\u001b[0;34m)\u001b[0m\u001b[0;34m\u001b[0m\u001b[0;34m\u001b[0m\u001b[0m\n\u001b[1;32m      4\u001b[0m environment_model = TFTimeLimit(\n\u001b[1;32m      5\u001b[0m     \u001b[0mEnvironmentModel\u001b[0m\u001b[0;34m(\u001b[0m\u001b[0mtransition_model\u001b[0m\u001b[0;34m,\u001b[0m \u001b[0mreward\u001b[0m\u001b[0;34m,\u001b[0m \u001b[0mterminates\u001b[0m\u001b[0;34m,\u001b[0m \u001b[0minitial_state_distribution\u001b[0m\u001b[0;34m)\u001b[0m\u001b[0;34m,\u001b[0m\u001b[0;34m\u001b[0m\u001b[0;34m\u001b[0m\u001b[0m\n",
      "\u001b[0;31mNameError\u001b[0m: name 'MountainCarReward' is not defined"
     ]
    }
   ],
   "source": [
    "reward = MountainCarReward(tf_env.observation_spec(), tf_env.action_spec())\n",
    "terminates = MountainCarTermination(tf_env.observation_spec())\n",
    "initial_state_distribution = MountainCarInitialState(tf_env.observation_spec())\n",
    "environment_model = TFTimeLimit(\n",
    "    EnvironmentModel(transition_model, reward, terminates, initial_state_distribution),\n",
    "    duration=200,\n",
    ")"
   ]
  },
  {
   "cell_type": "markdown",
   "id": "b512db41",
   "metadata": {
    "cell_marker": "\"\"\""
   },
   "source": [
    "The agent is trained on data gathered from the environment model. Using the environment interface\n",
    "means the TF-Agents drivers can be used to generate rollouts."
   ]
  },
  {
   "cell_type": "code",
   "execution_count": 8,
   "id": "6ce823a1",
   "metadata": {
    "execution": {
     "iopub.execute_input": "2021-07-27T08:51:42.937711Z",
     "iopub.status.busy": "2021-07-27T08:51:42.937078Z",
     "iopub.status.idle": "2021-07-27T08:51:42.940054Z",
     "shell.execute_reply": "2021-07-27T08:51:42.940570Z"
    },
    "lines_to_next_cell": 2
   },
   "outputs": [
    {
     "ename": "NameError",
     "evalue": "name 'tf_uniform_replay_buffer' is not defined",
     "output_type": "error",
     "traceback": [
      "\u001b[0;31m---------------------------------------------------------------------------\u001b[0m",
      "\u001b[0;31mNameError\u001b[0m                                 Traceback (most recent call last)",
      "\u001b[0;32m/tmp/ipykernel_2487/3903815623.py\u001b[0m in \u001b[0;36m<module>\u001b[0;34m\u001b[0m\n\u001b[0;32m----> 1\u001b[0;31m replay_buffer = tf_uniform_replay_buffer.TFUniformReplayBuffer(\n\u001b[0m\u001b[1;32m      2\u001b[0m     \u001b[0mdata_spec\u001b[0m\u001b[0;34m=\u001b[0m\u001b[0mtf_agent\u001b[0m\u001b[0;34m.\u001b[0m\u001b[0mcollect_data_spec\u001b[0m\u001b[0;34m,\u001b[0m\u001b[0;34m\u001b[0m\u001b[0;34m\u001b[0m\u001b[0m\n\u001b[1;32m      3\u001b[0m     \u001b[0mbatch_size\u001b[0m\u001b[0;34m=\u001b[0m\u001b[0mtf_env\u001b[0m\u001b[0;34m.\u001b[0m\u001b[0mbatch_size\u001b[0m\u001b[0;34m,\u001b[0m\u001b[0;34m\u001b[0m\u001b[0;34m\u001b[0m\u001b[0m\n\u001b[1;32m      4\u001b[0m     \u001b[0mmax_length\u001b[0m\u001b[0;34m=\u001b[0m\u001b[0mreplay_buffer_capacity\u001b[0m\u001b[0;34m,\u001b[0m\u001b[0;34m\u001b[0m\u001b[0;34m\u001b[0m\u001b[0m\n\u001b[1;32m      5\u001b[0m )\n",
      "\u001b[0;31mNameError\u001b[0m: name 'tf_uniform_replay_buffer' is not defined"
     ]
    }
   ],
   "source": [
    "replay_buffer = tf_uniform_replay_buffer.TFUniformReplayBuffer(\n",
    "    data_spec=tf_agent.collect_data_spec,\n",
    "    batch_size=tf_env.batch_size,\n",
    "    max_length=replay_buffer_capacity,\n",
    ")\n",
    "\n",
    "collect_driver = dynamic_step_driver.DynamicStepDriver(\n",
    "    environment_model,\n",
    "    collect_policy,\n",
    "    observers=[replay_buffer.add_batch],\n",
    "    num_steps=collect_steps_per_iteration,\n",
    ")"
   ]
  },
  {
   "cell_type": "markdown",
   "id": "43b71fcf",
   "metadata": {
    "cell_marker": "\"\"\""
   },
   "source": [
    "Before training the policy we plot the decisions made at random locations in the state space."
   ]
  },
  {
   "cell_type": "code",
   "execution_count": 9,
   "id": "477c63c7",
   "metadata": {
    "execution": {
     "iopub.execute_input": "2021-07-27T08:51:42.948937Z",
     "iopub.status.busy": "2021-07-27T08:51:42.948280Z",
     "iopub.status.idle": "2021-07-27T08:51:42.951406Z",
     "shell.execute_reply": "2021-07-27T08:51:42.951917Z"
    }
   },
   "outputs": [
    {
     "ename": "NameError",
     "evalue": "name 'collect_policy' is not defined",
     "output_type": "error",
     "traceback": [
      "\u001b[0;31m---------------------------------------------------------------------------\u001b[0m",
      "\u001b[0;31mNameError\u001b[0m                                 Traceback (most recent call last)",
      "\u001b[0;32m/tmp/ipykernel_2487/493832024.py\u001b[0m in \u001b[0;36m<module>\u001b[0;34m\u001b[0m\n\u001b[1;32m      1\u001b[0m \u001b[0mtime_step\u001b[0m \u001b[0;34m=\u001b[0m \u001b[0;32mNone\u001b[0m\u001b[0;34m\u001b[0m\u001b[0;34m\u001b[0m\u001b[0m\n\u001b[0;32m----> 2\u001b[0;31m \u001b[0mpolicy_state\u001b[0m \u001b[0;34m=\u001b[0m \u001b[0mcollect_policy\u001b[0m\u001b[0;34m.\u001b[0m\u001b[0mget_initial_state\u001b[0m\u001b[0;34m(\u001b[0m\u001b[0mtf_env\u001b[0m\u001b[0;34m.\u001b[0m\u001b[0mbatch_size\u001b[0m\u001b[0;34m)\u001b[0m\u001b[0;34m\u001b[0m\u001b[0;34m\u001b[0m\u001b[0m\n\u001b[0m\u001b[1;32m      3\u001b[0m \u001b[0mcollect_driver\u001b[0m\u001b[0;34m.\u001b[0m\u001b[0mrun\u001b[0m\u001b[0;34m(\u001b[0m\u001b[0mtime_step\u001b[0m\u001b[0;34m=\u001b[0m\u001b[0mtime_step\u001b[0m\u001b[0;34m,\u001b[0m \u001b[0mpolicy_state\u001b[0m\u001b[0;34m=\u001b[0m\u001b[0mpolicy_state\u001b[0m\u001b[0;34m)\u001b[0m\u001b[0;34m\u001b[0m\u001b[0;34m\u001b[0m\u001b[0m\n\u001b[1;32m      4\u001b[0m \u001b[0;34m\u001b[0m\u001b[0m\n\u001b[1;32m      5\u001b[0m \u001b[0msample_trajectories\u001b[0m \u001b[0;34m=\u001b[0m \u001b[0mreplay_buffer\u001b[0m\u001b[0;34m.\u001b[0m\u001b[0mgather_all\u001b[0m\u001b[0;34m(\u001b[0m\u001b[0;34m)\u001b[0m\u001b[0;34m\u001b[0m\u001b[0;34m\u001b[0m\u001b[0m\n",
      "\u001b[0;31mNameError\u001b[0m: name 'collect_policy' is not defined"
     ]
    }
   ],
   "source": [
    "time_step = None\n",
    "policy_state = collect_policy.get_initial_state(tf_env.batch_size)\n",
    "collect_driver.run(time_step=time_step, policy_state=policy_state)\n",
    "\n",
    "sample_trajectories = replay_buffer.gather_all()\n",
    "\n",
    "samples = sample_uniformly_distributed_observations_and_get_actions(tf_agent.policy, 1000)\n",
    "plot_mountain_car_policy_decisions(samples[\"observations\"].numpy(), samples[\"actions\"].numpy())"
   ]
  },
  {
   "cell_type": "markdown",
   "id": "0ac1996e",
   "metadata": {
    "cell_marker": "\"\"\"",
    "lines_to_next_cell": 1
   },
   "source": [
    "After a single training iteration, we again plot the decisions made by the policy."
   ]
  },
  {
   "cell_type": "code",
   "execution_count": 10,
   "id": "2d019b6e",
   "metadata": {
    "execution": {
     "iopub.execute_input": "2021-07-27T08:51:42.961702Z",
     "iopub.status.busy": "2021-07-27T08:51:42.961053Z",
     "iopub.status.idle": "2021-07-27T08:51:42.963891Z",
     "shell.execute_reply": "2021-07-27T08:51:42.964391Z"
    },
    "lines_to_next_cell": 0
   },
   "outputs": [
    {
     "ename": "NameError",
     "evalue": "name 'collect_driver' is not defined",
     "output_type": "error",
     "traceback": [
      "\u001b[0;31m---------------------------------------------------------------------------\u001b[0m",
      "\u001b[0;31mNameError\u001b[0m                                 Traceback (most recent call last)",
      "\u001b[0;32m/tmp/ipykernel_2487/1814195236.py\u001b[0m in \u001b[0;36m<module>\u001b[0;34m\u001b[0m\n\u001b[1;32m      8\u001b[0m \u001b[0;34m\u001b[0m\u001b[0m\n\u001b[1;32m      9\u001b[0m \u001b[0;34m\u001b[0m\u001b[0m\n\u001b[0;32m---> 10\u001b[0;31m \u001b[0mtime_step\u001b[0m\u001b[0;34m,\u001b[0m \u001b[0mpolicy_state\u001b[0m \u001b[0;34m=\u001b[0m \u001b[0mcollect_driver\u001b[0m\u001b[0;34m.\u001b[0m\u001b[0mrun\u001b[0m\u001b[0;34m(\u001b[0m\u001b[0mtime_step\u001b[0m\u001b[0;34m=\u001b[0m\u001b[0mtime_step\u001b[0m\u001b[0;34m,\u001b[0m \u001b[0mpolicy_state\u001b[0m\u001b[0;34m=\u001b[0m\u001b[0mpolicy_state\u001b[0m\u001b[0;34m)\u001b[0m\u001b[0;34m\u001b[0m\u001b[0;34m\u001b[0m\u001b[0m\n\u001b[0m\u001b[1;32m     11\u001b[0m \u001b[0mtrain_loss\u001b[0m \u001b[0;34m=\u001b[0m \u001b[0mtrain_step\u001b[0m\u001b[0;34m(\u001b[0m\u001b[0;34m)\u001b[0m\u001b[0;34m\u001b[0m\u001b[0;34m\u001b[0m\u001b[0m\n\u001b[1;32m     12\u001b[0m \u001b[0;34m\u001b[0m\u001b[0m\n",
      "\u001b[0;31mNameError\u001b[0m: name 'collect_driver' is not defined"
     ]
    }
   ],
   "source": [
    "def train_step():\n",
    "    dataset = replay_buffer.as_dataset(\n",
    "        num_parallel_calls=3, sample_batch_size=batch_size, num_steps=train_sequence_length + 1\n",
    "    ).prefetch(3)\n",
    "    iterator = iter(dataset)\n",
    "    experience, _ = next(iterator)\n",
    "    return tf_agent.train(experience)\n",
    "\n",
    "\n",
    "time_step, policy_state = collect_driver.run(time_step=time_step, policy_state=policy_state)\n",
    "train_loss = train_step()\n",
    "\n",
    "samples = sample_uniformly_distributed_observations_and_get_actions(tf_agent.policy, 1000)\n",
    "plot_mountain_car_policy_decisions(samples[\"observations\"].numpy(), samples[\"actions\"].numpy())"
   ]
  },
  {
   "cell_type": "markdown",
   "id": "ff35a76c",
   "metadata": {
    "cell_marker": "\"\"\""
   },
   "source": [
    "Having trained the policy for a small number of iterations it is clear that the policy is\n",
    "improving. "
   ]
  },
  {
   "cell_type": "code",
   "execution_count": 11,
   "id": "8118f209",
   "metadata": {
    "execution": {
     "iopub.execute_input": "2021-07-27T08:51:42.972996Z",
     "iopub.status.busy": "2021-07-27T08:51:42.972333Z",
     "iopub.status.idle": "2021-07-27T08:51:42.975133Z",
     "shell.execute_reply": "2021-07-27T08:51:42.975776Z"
    }
   },
   "outputs": [
    {
     "ename": "NameError",
     "evalue": "name 'collect_driver' is not defined",
     "output_type": "error",
     "traceback": [
      "\u001b[0;31m---------------------------------------------------------------------------\u001b[0m",
      "\u001b[0;31mNameError\u001b[0m                                 Traceback (most recent call last)",
      "\u001b[0;32m/tmp/ipykernel_2487/258358337.py\u001b[0m in \u001b[0;36m<module>\u001b[0;34m\u001b[0m\n\u001b[1;32m      1\u001b[0m \u001b[0;32mfor\u001b[0m \u001b[0m_\u001b[0m \u001b[0;32min\u001b[0m \u001b[0mrange\u001b[0m\u001b[0;34m(\u001b[0m\u001b[0;36m5\u001b[0m\u001b[0;34m)\u001b[0m\u001b[0;34m:\u001b[0m\u001b[0;34m\u001b[0m\u001b[0;34m\u001b[0m\u001b[0m\n\u001b[0;32m----> 2\u001b[0;31m     time_step, policy_state = collect_driver.run(\n\u001b[0m\u001b[1;32m      3\u001b[0m         \u001b[0mtime_step\u001b[0m\u001b[0;34m=\u001b[0m\u001b[0mtime_step\u001b[0m\u001b[0;34m,\u001b[0m \u001b[0mpolicy_state\u001b[0m\u001b[0;34m=\u001b[0m\u001b[0mpolicy_state\u001b[0m\u001b[0;34m\u001b[0m\u001b[0;34m\u001b[0m\u001b[0m\n\u001b[1;32m      4\u001b[0m     )\n\u001b[1;32m      5\u001b[0m     \u001b[0mtrain_loss\u001b[0m \u001b[0;34m=\u001b[0m \u001b[0mtrain_step\u001b[0m\u001b[0;34m(\u001b[0m\u001b[0;34m)\u001b[0m\u001b[0;34m\u001b[0m\u001b[0;34m\u001b[0m\u001b[0m\n",
      "\u001b[0;31mNameError\u001b[0m: name 'collect_driver' is not defined"
     ]
    }
   ],
   "source": [
    "for _ in range(5):\n",
    "    time_step, policy_state = collect_driver.run(\n",
    "        time_step=time_step, policy_state=policy_state\n",
    "    )\n",
    "    train_loss = train_step()\n",
    "\n",
    "samples = sample_uniformly_distributed_observations_and_get_actions(tf_agent.policy, 1000)\n",
    "plot_mountain_car_policy_decisions(samples[\"observations\"].numpy(), samples[\"actions\"].numpy())"
   ]
  }
 ],
 "metadata": {
  "jupytext": {
   "cell_markers": "\"\"\""
  },
  "kernelspec": {
   "display_name": "Python 3",
   "language": "python",
   "name": "python3"
  },
  "language_info": {
   "codemirror_mode": {
    "name": "ipython",
    "version": 3
   },
   "file_extension": ".py",
   "mimetype": "text/x-python",
   "name": "python",
   "nbconvert_exporter": "python",
   "pygments_lexer": "ipython3",
   "version": "3.7.11"
  }
 },
 "nbformat": 4,
 "nbformat_minor": 5
}
